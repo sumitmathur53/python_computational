{
  "nbformat": 4,
  "nbformat_minor": 0,
  "metadata": {
    "colab": {
      "provenance": []
    },
    "kernelspec": {
      "name": "python3",
      "display_name": "Python 3"
    },
    "language_info": {
      "name": "python"
    }
  },
  "cells": [
    {
      "cell_type": "markdown",
      "source": [
        "# Floating Point Numbers\n",
        "\n",
        "The number of bits is usually fixed for any given computer. Using binary representation gives us an insufficient range and precision of numbers to do relevant engineering calculations. To achieve the range of values needed with the same number of bits, we use floating point numbers or float for short. Instead of utilizing each bit as the coefficient of a power of 2, floats allocate bits to three different parts: the sign indicator, s\n",
        ", which says whether a number is positive or negative"
      ],
      "metadata": {
        "id": "386YHZuAH1aQ"
      }
    },
    {
      "cell_type": "code",
      "execution_count": 37,
      "metadata": {
        "colab": {
          "base_uri": "https://localhost:8080/"
        },
        "id": "ZRx84C3fHEKE",
        "outputId": "b26efa77-c08f-4e36-8aa8-2709c21d2376"
      },
      "outputs": [
        {
          "output_type": "execute_result",
          "data": {
            "text/plain": [
              "sys.float_info(max=1.7976931348623157e+308, max_exp=1024, max_10_exp=308, min=2.2250738585072014e-308, min_exp=-1021, min_10_exp=-307, dig=15, mant_dig=53, epsilon=2.220446049250313e-16, radix=2, rounds=1)"
            ]
          },
          "metadata": {},
          "execution_count": 37
        }
      ],
      "source": [
        "import sys\n",
        "sys.float_info"
      ]
    },
    {
      "cell_type": "code",
      "source": [
        "import numpy as np\n"
      ],
      "metadata": {
        "id": "I0S9ST-CIgeR"
      },
      "execution_count": 38,
      "outputs": []
    },
    {
      "cell_type": "code",
      "source": [
        "np.spacing(1e9)"
      ],
      "metadata": {
        "colab": {
          "base_uri": "https://localhost:8080/"
        },
        "id": "lVAgL9J7Ivr6",
        "outputId": "02122c3b-f18f-4fd4-dbf5-8c92248412a7"
      },
      "execution_count": 39,
      "outputs": [
        {
          "output_type": "execute_result",
          "data": {
            "text/plain": [
              "1.1920928955078125e-07"
            ]
          },
          "metadata": {},
          "execution_count": 39
        }
      ]
    },
    {
      "cell_type": "markdown",
      "source": [
        "Use the spacing function to determine the gap at 1e9. Verify that adding a number to 1e9 that is less than half the gap at 1e9 results in the same number."
      ],
      "metadata": {
        "id": "HqzT1gNgJA_e"
      }
    },
    {
      "cell_type": "code",
      "source": [
        "1e9 == (1e9 + np.spacing(1e9)/4)"
      ],
      "metadata": {
        "colab": {
          "base_uri": "https://localhost:8080/"
        },
        "id": "u-pZoOJkIyJV",
        "outputId": "2e275d8b-baee-4d40-faef-c1609e034b82"
      },
      "execution_count": 40,
      "outputs": [
        {
          "output_type": "execute_result",
          "data": {
            "text/plain": [
              "True"
            ]
          },
          "metadata": {},
          "execution_count": 40
        }
      ]
    },
    {
      "cell_type": "markdown",
      "source": [
        "# Write a file\n",
        "\n",
        "f = open(filename, mode)\n",
        "\n",
        "f is the returned file object. The filename is a string where the location of the file you want to open, and the mode is another string containing a few characters describing the way in which the file will be used, the common modes are:\n",
        "\n",
        "‘r’, this is the default mode, which opens a file for reading\n",
        "\n",
        "‘w’, this mode opens a file for writing, if the file does not exist, it creates a new file.\n",
        "\n",
        "‘a’, open a file in append mode, append data to end of file. If the file does not exist, it creates a new file.\n",
        "\n",
        "‘b’, open a file in binary mode.\n",
        "\n",
        "‘r+’, open a file (do not create) for reading and writing.\n",
        "\n",
        "‘w+’, open or create a file for writing and reading, discard existing contents.\n",
        "\n",
        "‘a+’, open or create file for reading and writing, and append data to end of file.\n",
        "\n"
      ],
      "metadata": {
        "id": "9d8WPPHqK-7Y"
      }
    },
    {
      "cell_type": "code",
      "source": [
        "f = open('test.txt','w')\n",
        "\n",
        "for i in range(6):\n",
        "  f.write(f\" this is line {i}\\n\")\n",
        "\n",
        "f.close()"
      ],
      "metadata": {
        "id": "42_RRbsXJHSg"
      },
      "execution_count": 41,
      "outputs": []
    },
    {
      "cell_type": "markdown",
      "source": [
        "## Append to a file"
      ],
      "metadata": {
        "id": "elOlFFvDLTB2"
      }
    },
    {
      "cell_type": "code",
      "source": [
        "f = open('test.txt','a')\n",
        "f.write(f\"this is another line to check the append \\n\")\n",
        "\n",
        "f.close()\n"
      ],
      "metadata": {
        "id": "sdkhNUYNKspo"
      },
      "execution_count": 42,
      "outputs": []
    },
    {
      "cell_type": "markdown",
      "source": [
        "## reading a file"
      ],
      "metadata": {
        "id": "Sm-syBcwMO3M"
      }
    },
    {
      "cell_type": "code",
      "source": [
        "f = open('./test.txt','r')\n",
        "\n",
        "content = f.read()\n",
        "f.close()\n",
        "\n",
        "print(content)"
      ],
      "metadata": {
        "colab": {
          "base_uri": "https://localhost:8080/"
        },
        "id": "p6xBc2_ZLkiy",
        "outputId": "3dcf7e05-e7b4-41a2-bb99-ec86d76d62cf"
      },
      "execution_count": 43,
      "outputs": [
        {
          "output_type": "stream",
          "name": "stdout",
          "text": [
            " this is line 0\n",
            " this is line 1\n",
            " this is line 2\n",
            " this is line 3\n",
            " this is line 4\n",
            " this is line 5\n",
            "this is another line to check the append \n",
            "\n"
          ]
        }
      ]
    },
    {
      "cell_type": "code",
      "source": [
        "type(content)"
      ],
      "metadata": {
        "colab": {
          "base_uri": "https://localhost:8080/"
        },
        "id": "0EMbIAF7Mb5F",
        "outputId": "b25b3942-66de-413c-aab1-e04c59128953"
      },
      "execution_count": 44,
      "outputs": [
        {
          "output_type": "execute_result",
          "data": {
            "text/plain": [
              "str"
            ]
          },
          "metadata": {},
          "execution_count": 44
        }
      ]
    },
    {
      "cell_type": "markdown",
      "source": [
        "# Dealing with numbers and arrays"
      ],
      "metadata": {
        "id": "Z0qP-jc_M87c"
      }
    },
    {
      "cell_type": "markdown",
      "source": [
        " Store an array [[1.20, 2.20, 3.00], [4.14, 5.65, 6.42]] to a file named my_array.txt and read it back to a variable called my_arr."
      ],
      "metadata": {
        "id": "FWKLEzwoNGva"
      }
    },
    {
      "cell_type": "code",
      "source": [
        "arr = np.array([[1.20, 2.20, 3.00], [4.14, 5.65, 6.42]])\n",
        "arr"
      ],
      "metadata": {
        "colab": {
          "base_uri": "https://localhost:8080/"
        },
        "id": "rtxq1ur1MgMv",
        "outputId": "1c51c7cd-7fac-4997-9c57-9aff32763940"
      },
      "execution_count": 45,
      "outputs": [
        {
          "output_type": "execute_result",
          "data": {
            "text/plain": [
              "array([[1.2 , 2.2 , 3.  ],\n",
              "       [4.14, 5.65, 6.42]])"
            ]
          },
          "metadata": {},
          "execution_count": 45
        }
      ]
    },
    {
      "cell_type": "markdown",
      "source": [
        "## saving the output"
      ],
      "metadata": {
        "id": "v8rRLK5dN6yW"
      }
    },
    {
      "cell_type": "code",
      "source": [
        "np.savetxt('my_arr.txt', arr, fmt='%2f', header = 'col1 col2 col3')"
      ],
      "metadata": {
        "id": "aQVUfy5lNIzS"
      },
      "execution_count": 46,
      "outputs": []
    },
    {
      "cell_type": "markdown",
      "source": [
        "We can see from the above example to save a 2D array into a text file using np.savetxt. The first argument is the file name, second argument is the arr object we wave to save, and the third argument is to define the format for the output (I use ‘%.2f’ to indicate we want the output numbers with 2 decimals). The fourth argument is the header we want to write into the file."
      ],
      "metadata": {
        "id": "9F5Cg_e5Nr4l"
      }
    },
    {
      "cell_type": "code",
      "source": [
        "my_arr = np.loadtxt('my_arr.txt')\n",
        "my_arr"
      ],
      "metadata": {
        "colab": {
          "base_uri": "https://localhost:8080/"
        },
        "id": "I2aDbPTWNcv_",
        "outputId": "a20dcf05-e5ce-4dd0-ecb8-811510d1fc27"
      },
      "execution_count": 47,
      "outputs": [
        {
          "output_type": "execute_result",
          "data": {
            "text/plain": [
              "array([[1.2 , 2.2 , 3.  ],\n",
              "       [4.14, 5.65, 6.42]])"
            ]
          },
          "metadata": {},
          "execution_count": 47
        }
      ]
    },
    {
      "cell_type": "markdown",
      "source": [
        "# Write and open a CSV file"
      ],
      "metadata": {
        "id": "8SyKqFl_OO2P"
      }
    },
    {
      "cell_type": "code",
      "source": [
        "data = np.random.random((100,5))"
      ],
      "metadata": {
        "id": "isB3ROcKNwCV"
      },
      "execution_count": 48,
      "outputs": []
    },
    {
      "cell_type": "code",
      "source": [
        "np.savetxt('test.csv', data, fmt = '%.2f', delimiter=',', header='c1,c2,c3,c4,c5')"
      ],
      "metadata": {
        "id": "Hp013x17OX4C"
      },
      "execution_count": 49,
      "outputs": []
    },
    {
      "cell_type": "markdown",
      "source": [
        "We first generate the random data for 100 rows and 5 columns using the np.random function and assign it to data variable. We use the np.savetxt function to save the data to a csv file. We can see that the first 3 arguments are the same for the ones used in the previous section, but here we set the delimiter argument to ‘,’, which indicate that we want to separate the data using comma."
      ],
      "metadata": {
        "id": "yEUADJzjPLrx"
      }
    },
    {
      "cell_type": "markdown",
      "source": [
        "# Read a CSV file"
      ],
      "metadata": {
        "id": "XmS0PD5aPUE_"
      }
    },
    {
      "cell_type": "code",
      "source": [
        "my_csv = np.loadtxt('./test.csv', delimiter=',')\n",
        "my_csv[:5, :]"
      ],
      "metadata": {
        "colab": {
          "base_uri": "https://localhost:8080/"
        },
        "id": "Dl5hF3y8Onrm",
        "outputId": "35b6ebe2-33d3-493a-8c64-ae7097820613"
      },
      "execution_count": 50,
      "outputs": [
        {
          "output_type": "execute_result",
          "data": {
            "text/plain": [
              "array([[0.9 , 0.38, 0.92, 0.12, 0.31],\n",
              "       [0.21, 0.54, 0.29, 0.44, 0.96],\n",
              "       [0.27, 0.05, 0.23, 0.65, 0.7 ],\n",
              "       [0.62, 0.74, 0.54, 0.42, 0.29],\n",
              "       [0.32, 0.12, 0.98, 0.47, 0.34]])"
            ]
          },
          "metadata": {},
          "execution_count": 50
        }
      ]
    },
    {
      "cell_type": "markdown",
      "source": [
        "As before, we could read in the csv file using the np.loadtxt function. Let’s read in the csv file we just saved to the disk to a variable my_csv, and output the first 5 rows. Note here we use the delimiter again to specify that the data in the file is separated by commas"
      ],
      "metadata": {
        "id": "bRURnHlyQWOM"
      }
    },
    {
      "cell_type": "code",
      "source": [
        "my_csv[:, :]"
      ],
      "metadata": {
        "colab": {
          "base_uri": "https://localhost:8080/"
        },
        "id": "QTmPEOEoPYsB",
        "outputId": "e37547d2-6049-438c-f44d-40343c5ebb4a"
      },
      "execution_count": 51,
      "outputs": [
        {
          "output_type": "execute_result",
          "data": {
            "text/plain": [
              "array([[0.9 , 0.38, 0.92, 0.12, 0.31],\n",
              "       [0.21, 0.54, 0.29, 0.44, 0.96],\n",
              "       [0.27, 0.05, 0.23, 0.65, 0.7 ],\n",
              "       [0.62, 0.74, 0.54, 0.42, 0.29],\n",
              "       [0.32, 0.12, 0.98, 0.47, 0.34],\n",
              "       [0.63, 0.86, 0.5 , 0.13, 0.06],\n",
              "       [0.78, 0.71, 0.83, 0.49, 0.69],\n",
              "       [0.88, 0.29, 0.83, 0.3 , 0.08],\n",
              "       [0.43, 0.94, 0.97, 0.21, 0.  ],\n",
              "       [0.01, 0.22, 0.16, 0.6 , 0.32],\n",
              "       [0.96, 0.22, 0.59, 0.88, 0.66],\n",
              "       [0.06, 0.89, 0.13, 0.98, 0.16],\n",
              "       [0.3 , 0.85, 0.06, 0.09, 0.51],\n",
              "       [0.23, 0.19, 0.08, 0.29, 0.71],\n",
              "       [0.28, 0.09, 0.66, 0.18, 0.85],\n",
              "       [0.63, 0.45, 0.59, 0.67, 0.25],\n",
              "       [0.87, 0.6 , 0.  , 0.22, 0.7 ],\n",
              "       [0.61, 0.44, 0.71, 0.44, 0.86],\n",
              "       [0.13, 0.21, 0.26, 0.5 , 0.81],\n",
              "       [0.18, 0.44, 0.49, 0.65, 0.86],\n",
              "       [0.23, 0.63, 0.86, 0.04, 0.84],\n",
              "       [0.82, 0.54, 0.31, 0.25, 0.84],\n",
              "       [0.45, 0.83, 0.21, 0.4 , 0.15],\n",
              "       [0.97, 0.6 , 0.57, 0.85, 0.07],\n",
              "       [0.03, 0.13, 0.62, 0.82, 0.81],\n",
              "       [0.62, 0.54, 0.93, 0.49, 0.91],\n",
              "       [0.28, 0.76, 0.5 , 0.62, 0.73],\n",
              "       [0.16, 0.32, 0.7 , 0.74, 0.03],\n",
              "       [0.54, 0.87, 0.5 , 0.8 , 0.39],\n",
              "       [0.37, 0.31, 0.95, 0.56, 0.14],\n",
              "       [0.95, 0.01, 0.62, 0.39, 0.01],\n",
              "       [0.88, 0.76, 0.63, 0.3 , 0.27],\n",
              "       [0.72, 0.29, 0.15, 0.54, 0.21],\n",
              "       [0.56, 0.97, 0.01, 0.77, 0.92],\n",
              "       [0.87, 0.18, 0.08, 0.01, 0.77],\n",
              "       [0.32, 0.96, 0.22, 0.43, 0.38],\n",
              "       [0.8 , 0.43, 0.42, 0.13, 0.4 ],\n",
              "       [0.7 , 0.79, 0.66, 0.49, 0.47],\n",
              "       [0.49, 0.93, 0.34, 0.94, 0.42],\n",
              "       [0.  , 0.99, 0.12, 0.62, 0.83],\n",
              "       [0.57, 0.83, 0.24, 0.86, 0.22],\n",
              "       [0.51, 0.62, 0.61, 0.6 , 0.47],\n",
              "       [0.49, 0.83, 0.86, 0.75, 0.89],\n",
              "       [0.2 , 0.06, 0.76, 0.77, 0.41],\n",
              "       [0.61, 0.2 , 0.23, 0.59, 0.47],\n",
              "       [0.93, 0.78, 0.33, 0.34, 0.59],\n",
              "       [0.7 , 0.11, 0.02, 0.57, 0.89],\n",
              "       [0.68, 0.97, 0.45, 0.23, 0.62],\n",
              "       [0.04, 0.5 , 0.48, 0.73, 0.33],\n",
              "       [0.51, 0.79, 0.33, 0.34, 0.18],\n",
              "       [0.55, 0.26, 0.53, 0.12, 0.32],\n",
              "       [0.69, 0.19, 0.38, 0.72, 0.29],\n",
              "       [0.46, 0.4 , 0.35, 0.39, 0.86],\n",
              "       [0.38, 0.68, 0.16, 0.03, 0.28],\n",
              "       [0.56, 0.77, 0.81, 0.11, 0.52],\n",
              "       [0.6 , 0.05, 0.16, 0.18, 0.39],\n",
              "       [0.33, 0.56, 0.2 , 0.36, 0.42],\n",
              "       [0.51, 0.08, 0.89, 0.32, 0.55],\n",
              "       [0.85, 0.4 , 0.91, 0.8 , 0.05],\n",
              "       [0.88, 0.9 , 0.77, 0.31, 0.84],\n",
              "       [0.51, 0.36, 0.11, 0.41, 0.57],\n",
              "       [0.95, 0.66, 0.67, 0.72, 0.35],\n",
              "       [0.35, 0.67, 0.48, 0.85, 0.74],\n",
              "       [0.91, 0.76, 0.89, 0.31, 0.52],\n",
              "       [0.61, 0.84, 0.44, 0.35, 0.12],\n",
              "       [0.75, 0.2 , 0.24, 0.52, 0.97],\n",
              "       [0.58, 0.13, 0.5 , 0.45, 0.8 ],\n",
              "       [0.96, 0.16, 0.3 , 0.25, 0.11],\n",
              "       [0.11, 0.35, 0.35, 0.48, 0.  ],\n",
              "       [0.17, 0.74, 0.12, 0.47, 0.42],\n",
              "       [0.09, 0.16, 0.38, 0.73, 0.87],\n",
              "       [0.28, 0.07, 0.09, 0.08, 0.56],\n",
              "       [0.08, 0.33, 0.75, 0.11, 0.35],\n",
              "       [0.04, 0.88, 0.2 , 0.23, 0.33],\n",
              "       [0.13, 0.48, 0.37, 0.79, 0.11],\n",
              "       [0.88, 0.55, 0.42, 0.8 , 0.27],\n",
              "       [0.48, 0.45, 0.69, 0.16, 0.44],\n",
              "       [0.78, 0.85, 0.11, 0.5 , 0.77],\n",
              "       [0.04, 0.89, 1.  , 0.07, 0.41],\n",
              "       [0.47, 0.96, 0.19, 0.31, 0.45],\n",
              "       [0.02, 0.5 , 0.25, 0.91, 0.36],\n",
              "       [0.67, 0.  , 0.19, 0.49, 0.34],\n",
              "       [0.1 , 0.26, 0.3 , 0.09, 0.17],\n",
              "       [0.66, 0.03, 0.4 , 0.74, 0.7 ],\n",
              "       [0.28, 0.52, 0.18, 0.96, 0.28],\n",
              "       [0.61, 0.66, 0.39, 0.71, 0.94],\n",
              "       [0.31, 0.94, 0.07, 0.76, 0.61],\n",
              "       [0.82, 0.48, 0.75, 0.38, 0.98],\n",
              "       [0.38, 0.8 , 0.6 , 0.78, 0.97],\n",
              "       [0.62, 0.74, 0.33, 0.27, 0.62],\n",
              "       [0.52, 0.83, 0.68, 0.74, 0.19],\n",
              "       [0.16, 0.36, 0.67, 0.01, 0.85],\n",
              "       [0.08, 0.14, 0.77, 0.39, 0.84],\n",
              "       [0.2 , 0.33, 0.31, 0.4 , 0.96],\n",
              "       [0.38, 0.1 , 0.92, 0.32, 0.67],\n",
              "       [0.77, 0.13, 0.24, 0.43, 0.52],\n",
              "       [0.65, 0.84, 0.92, 0.07, 0.71],\n",
              "       [0.13, 0.83, 0.66, 0.91, 0.42],\n",
              "       [0.7 , 0.58, 0.28, 0.72, 0.84],\n",
              "       [0.05, 0.22, 0.51, 0.85, 0.56]])"
            ]
          },
          "metadata": {},
          "execution_count": 51
        }
      ]
    },
    {
      "cell_type": "markdown",
      "source": [
        "#Pickle Files\n",
        "\n",
        "introduce another way to store the data to the disk - pickle. We talked about saving data into text file or csv file. But in certain cases, we want to store dictionaries, tuples, lists, or any other data type to the disk and use them later or send them to some colleagues. This is where pickle comes in, it can serialize objects so that they can be saved into a file and loaded again later.\n",
        "\n",
        "Pickle can be used to serialize Python object structures, which refers to the process of converting an object in the memory to a byte stream that can be stored as a binary file on disk. When we load it back to a Python program, this binary file can be de-serialized back to a Python object.\n",
        "\n"
      ],
      "metadata": {
        "id": "EDoCs3pXQu3v"
      }
    },
    {
      "cell_type": "markdown",
      "source": [
        "# Write a pickle file\n",
        "\n",
        "Create a dictionary, and save it to a pickle file on disk. To use a pickle, we need to import the module first."
      ],
      "metadata": {
        "id": "4PWjKutqQ3-U"
      }
    },
    {
      "cell_type": "code",
      "source": [
        "import pickle"
      ],
      "metadata": {
        "id": "dDiV7XIkQamU"
      },
      "execution_count": 52,
      "outputs": []
    },
    {
      "cell_type": "code",
      "source": [
        "dict_a = {'A' : 0, 'B':1, 'C':2}\n",
        "pickle.dump(dict_a, open('text.pkl', 'wb'))"
      ],
      "metadata": {
        "id": "P6DlfOW3REme"
      },
      "execution_count": 53,
      "outputs": []
    },
    {
      "cell_type": "markdown",
      "source": [
        "To use pickle to serialize an object, we use the pickle.dump function, which takes two arguments: the first one is the object, and the second argument is a file object returned by the open function. Note here the mode of the open function is ‘wb’ which indicates write binary file.\n",
        "\n"
      ],
      "metadata": {
        "id": "XSyIQkB6Rdo9"
      }
    },
    {
      "cell_type": "markdown",
      "source": [
        "# Read a pickle file"
      ],
      "metadata": {
        "id": "UmTeWG8DRkfU"
      }
    },
    {
      "cell_type": "code",
      "source": [
        "my_dict = pickle.load(open('./text.pkl', 'rb'))\n",
        "my_dict"
      ],
      "metadata": {
        "colab": {
          "base_uri": "https://localhost:8080/"
        },
        "id": "UK6eS9_SRbie",
        "outputId": "03044748-bdec-4441-ca9b-071e72a56dd5"
      },
      "execution_count": 54,
      "outputs": [
        {
          "output_type": "execute_result",
          "data": {
            "text/plain": [
              "{'A': 0, 'B': 1, 'C': 2}"
            ]
          },
          "metadata": {},
          "execution_count": 54
        }
      ]
    },
    {
      "cell_type": "markdown",
      "source": [
        "We can see the loading of a pickle file is very similar to the saving process, but here the mode of the open function is ‘rb’ indicates read the binary file. And this function will be de-serialize the binary file back to the original object, which is a dictionary in our case.\n",
        "\n"
      ],
      "metadata": {
        "id": "jod1l7IHSDRO"
      }
    },
    {
      "cell_type": "markdown",
      "source": [
        "# JSON Files"
      ],
      "metadata": {
        "id": "xgxDSuICSeu1"
      }
    },
    {
      "cell_type": "markdown",
      "source": [
        "JSON is another format we are going to introduce. It stands for JavaScript Object Notation. A JSON file usually ends with extension “.json”. Unlike pickle, which is Python dependent, JSON is a language-independent data format, which makes it attractive to use. Besides, it is usually takes less space on the disk and the manipulation is faster than pickle (if you are interested, search online to find more materials about it). Therefore, it is a good option to store your data using JSON. In this section, we will briefly explore how to handle JSON files in Python.\n",
        "\n"
      ],
      "metadata": {
        "id": "KP01VPRRSiWW"
      }
    },
    {
      "cell_type": "markdown",
      "source": [
        "## JSON format"
      ],
      "metadata": {
        "id": "5LatsjmISq49"
      }
    },
    {
      "cell_type": "markdown",
      "source": [
        "The text in JSON is done through quoted string containing value in key-value pairs within {}. It is actually very similar to the dictionary we saw in Python. For example:"
      ],
      "metadata": {
        "id": "h75TcpEeSuFZ"
      }
    },
    {
      "cell_type": "code",
      "source": [
        "{\n",
        "  \"school\": \"UC Berkeley\",\n",
        "  \"address\": {\n",
        "    \"city\": \"Berkeley\",\n",
        "    \"state\": \"California\",\n",
        "    \"postal\": \"94720\"\n",
        "  },\n",
        "\n",
        "  \"list\":[\n",
        "      \"student 1\",\n",
        "      \"student 2\",\n",
        "      \"student 3\"\n",
        "      ]\n",
        "}"
      ],
      "metadata": {
        "colab": {
          "base_uri": "https://localhost:8080/"
        },
        "id": "rLbj0B-8RpqC",
        "outputId": "68a59f3d-303d-4e5c-b0a7-a5e6decea39e"
      },
      "execution_count": 55,
      "outputs": [
        {
          "output_type": "execute_result",
          "data": {
            "text/plain": [
              "{'school': 'UC Berkeley',\n",
              " 'address': {'city': 'Berkeley', 'state': 'California', 'postal': '94720'},\n",
              " 'list': ['student 1', 'student 2', 'student 3']}"
            ]
          },
          "metadata": {},
          "execution_count": 55
        }
      ]
    },
    {
      "cell_type": "markdown",
      "source": [
        "# Write a JSON file"
      ],
      "metadata": {
        "id": "uWBZIv7MV0LG"
      }
    },
    {
      "cell_type": "code",
      "source": [
        "import json"
      ],
      "metadata": {
        "id": "tWCXPHAJVPTq"
      },
      "execution_count": 56,
      "outputs": []
    },
    {
      "cell_type": "code",
      "source": [
        "school = {\n",
        "  \"school\": \"UC Berkeley\",\n",
        "  \"address\": {\n",
        "    \"city\": \"Berkeley\",\n",
        "    \"state\": \"California\",\n",
        "    \"postal\": \"94720\"\n",
        "  },\n",
        "\n",
        "  \"list\":[\n",
        "      \"student 1\",\n",
        "      \"student 2\",\n",
        "      \"student 3\"\n",
        "      ],\n",
        "\n",
        "  \"array\":[1, 2, 3]\n",
        "}\n",
        "json.dump(school, open('school.json', 'w'))"
      ],
      "metadata": {
        "id": "3yYsLp2nV46K"
      },
      "execution_count": 57,
      "outputs": []
    },
    {
      "cell_type": "markdown",
      "source": [
        "To use json to serialize an object, we use the json.dump function, which takes two arguments: the first one is the object, and the second argument is a file object returned by the open function. Note here the mode of the open function is ‘w’ which indicates write file.\n",
        "\n"
      ],
      "metadata": {
        "id": "319l_lzZWAlz"
      }
    },
    {
      "cell_type": "markdown",
      "source": [
        "# Read a JSON file"
      ],
      "metadata": {
        "id": "UzT4W4nGWH8a"
      }
    },
    {
      "cell_type": "code",
      "source": [
        "my_school = json.load(open('./school.json', 'r'))\n",
        "my_school"
      ],
      "metadata": {
        "colab": {
          "base_uri": "https://localhost:8080/"
        },
        "id": "G8l0WB1TV7yp",
        "outputId": "b99d7fd8-8c5c-4bdf-f560-e171a0d7e399"
      },
      "execution_count": 58,
      "outputs": [
        {
          "output_type": "execute_result",
          "data": {
            "text/plain": [
              "{'school': 'UC Berkeley',\n",
              " 'address': {'city': 'Berkeley', 'state': 'California', 'postal': '94720'},\n",
              " 'list': ['student 1', 'student 2', 'student 3'],\n",
              " 'array': [1, 2, 3]}"
            ]
          },
          "metadata": {},
          "execution_count": 58
        }
      ]
    },
    {
      "cell_type": "code",
      "source": [],
      "metadata": {
        "id": "u8_VAmqjWLF0"
      },
      "execution_count": 58,
      "outputs": []
    }
  ]
}